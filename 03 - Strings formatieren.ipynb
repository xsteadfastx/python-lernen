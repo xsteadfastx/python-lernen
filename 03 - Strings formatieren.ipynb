{
 "cells": [
  {
   "cell_type": "markdown",
   "metadata": {},
   "source": [
    "<div class=\"alert alert-block alert-info\">**Starte das Lehrblatt mit `Cell` -> `Run All`!**</div>"
   ]
  },
  {
   "cell_type": "markdown",
   "metadata": {},
   "source": [
    "# Strings formatieren"
   ]
  },
  {
   "cell_type": "markdown",
   "metadata": {},
   "source": [
    "Oft kommt es vor das man einen Text wie einen Lückentext befüllen möchte, Teile Variabel sein sollen."
   ]
  },
  {
   "cell_type": "code",
   "execution_count": null,
   "metadata": {},
   "outputs": [],
   "source": [
    "'David arbeitet in Wolfsburg'"
   ]
  },
  {
   "cell_type": "markdown",
   "metadata": {},
   "source": [
    "Vorname und Ort der Arbeit sollten in diesem Fall variabel benutzbar sein. "
   ]
  },
  {
   "cell_type": "code",
   "execution_count": null,
   "metadata": {},
   "outputs": [],
   "source": [
    "'Marvin arbeitet in Klein-Brunsrode'"
   ]
  },
  {
   "cell_type": "markdown",
   "metadata": {},
   "source": [
    "Es besteht die Möglichkeit den String zu befüllen. Ein String Objekt hat bestimmte Attribute auf die wir zugreifen können. Eins davon ist das Attribut `format`.\n",
    "\n",
    "Um es zu benutzen, setzt man Platzhalter im String (`{}`) und läßt ihn mit den passenden Namen und Ort befüllen."
   ]
  },
  {
   "cell_type": "code",
   "execution_count": null,
   "metadata": {},
   "outputs": [],
   "source": [
    "name = 'David'\n",
    "ort = 'Wolfsburg'\n",
    "\n",
    "'{} arbeitet in {}'.format(name, ort)"
   ]
  },
  {
   "cell_type": "code",
   "execution_count": null,
   "metadata": {},
   "outputs": [],
   "source": [
    "name = 'Marvin'\n",
    "ort = 'Klein-Brunsrode'\n",
    "\n",
    "'{} arbeitet in {}'.format(name, ort)"
   ]
  },
  {
   "cell_type": "markdown",
   "metadata": {},
   "source": [
    "Nun erstellen wir daraus eine Funktion um nicht immer das `format`-Statement neu schreiben zu müssen."
   ]
  },
  {
   "cell_type": "code",
   "execution_count": null,
   "metadata": {
    "collapsed": true
   },
   "outputs": [],
   "source": [
    "def arbeit(name, ort):\n",
    "    return '{} arbeitet in {}'.format(name, ort)"
   ]
  },
  {
   "cell_type": "code",
   "execution_count": null,
   "metadata": {},
   "outputs": [],
   "source": [
    "arbeit('David', 'Wolfsburg')"
   ]
  },
  {
   "cell_type": "code",
   "execution_count": null,
   "metadata": {},
   "outputs": [],
   "source": [
    "arbeit('Marvin', 'Klein-Brunsrode')"
   ]
  },
  {
   "cell_type": "code",
   "execution_count": null,
   "metadata": {},
   "outputs": [],
   "source": [
    "arbeit('Stefan', 'Heere')"
   ]
  },
  {
   "cell_type": "markdown",
   "metadata": {},
   "source": [
    "## Andere Arten Strings zu formatieren"
   ]
  },
  {
   "cell_type": "markdown",
   "metadata": {},
   "source": [
    "Das Attribut `format` ist nicht der einzige Weg Strings mit Variabeln zu füllen."
   ]
  },
  {
   "cell_type": "markdown",
   "metadata": {},
   "source": [
    "Die neuste Möglichkeit (erst seit Python Version 3.6) sind `f-strings`."
   ]
  },
  {
   "cell_type": "code",
   "execution_count": null,
   "metadata": {},
   "outputs": [],
   "source": [
    "name = 'David'\n",
    "ort = 'Wolfsburg'\n",
    "\n",
    "f'{name} arbeitet in {ort}'"
   ]
  },
  {
   "cell_type": "markdown",
   "metadata": {},
   "source": [
    "Vor dem String wird ein `f` geschrieben um Python zu sagen das es sich im folgenden String um einen formatierten String handelt. So können einfach Variabeln direkt im String benutzt werden.\n",
    "\n",
    "Hier noch ein Video mit einem Beispiel:"
   ]
  },
  {
   "cell_type": "code",
   "execution_count": null,
   "metadata": {},
   "outputs": [],
   "source": [
    "from IPython.display import HTML\n",
    "HTML('<iframe width=\"560\" height=\"315\" src=\"https://www.youtube.com/embed/T_z_IGLR8XM\" frameborder=\"0\" allowfullscreen></iframe>')"
   ]
  },
  {
   "cell_type": "markdown",
   "metadata": {},
   "source": [
    "Eine etwas ältere Methode:"
   ]
  },
  {
   "cell_type": "code",
   "execution_count": null,
   "metadata": {},
   "outputs": [],
   "source": [
    "'%s arbeitet in %s' % (name, ort)"
   ]
  },
  {
   "cell_type": "markdown",
   "metadata": {},
   "source": [
    "Es wird der Platzhalter `%s` benutzt."
   ]
  },
  {
   "cell_type": "markdown",
   "metadata": {},
   "source": [
    "## Weitere Informationen"
   ]
  },
  {
   "cell_type": "markdown",
   "metadata": {},
   "source": [
    "* [https://pyformat.info/](https://pyformat.info/)\n",
    "* [https://www.python-kurs.eu/python3_formatierte_ausgabe.php](https://www.python-kurs.eu/python3_formatierte_ausgabe.php)"
   ]
  },
  {
   "cell_type": "markdown",
   "metadata": {},
   "source": [
    "## Aufgaben"
   ]
  },
  {
   "cell_type": "markdown",
   "metadata": {},
   "source": [
    "<div class=\"alert alert-block alert-danger\">Um diese Aufgaben zu testen müssen alle Zellen neu ausgeführt werden. Dies geht über `Cell` -> `Run All`! **Die Aufgaben sind Erfüllt wenn es keine Fehlermeldung mehr gibt!**</div>"
   ]
  },
  {
   "cell_type": "markdown",
   "metadata": {},
   "source": [
    "### Baue eine Funktion die einer der oben gennanten Methoden benutzt um einen String zurück zu geben"
   ]
  },
  {
   "cell_type": "code",
   "execution_count": null,
   "metadata": {
    "collapsed": true
   },
   "outputs": [],
   "source": [
    "# Vervollständige die Funktion bis es keinen Fehler mehr gibt \n",
    "# und der String \"Das Wetter wird heute wolkig und erreicht 21°C\" erstellt wird. \n",
    "def wetter():\n",
    "    return ''"
   ]
  },
  {
   "cell_type": "markdown",
   "metadata": {},
   "source": [
    "<div class=\"alert alert-block alert-danger\">Der folgende Block ist der Test ob die Funktion die Aufgabe erfüllt. **Dieser darf nicht verändert werden!**</div>"
   ]
  },
  {
   "cell_type": "code",
   "execution_count": null,
   "metadata": {},
   "outputs": [],
   "source": [
    "# Dieser Code testet den Output. Rechts steht der String der erzeugt werden soll.\n",
    "# Dieser schlägt fehl bis du die richtige Funktion erstellt hast.\n",
    "assert wetter('wolkig', 21) == 'Das Wetter wird heute wolkig und erreicht 21°C'\n",
    "assert wetter('sonnig', 7) == 'Das Wetter wird heute sonnig und erreicht 7°C'"
   ]
  },
  {
   "cell_type": "markdown",
   "metadata": {},
   "source": [
    "### Beschreibe deine Erkenntnisse im folgenden Block"
   ]
  },
  {
   "cell_type": "markdown",
   "metadata": {},
   "source": [
    "Hier kommen deine Erkenntnisse rein..."
   ]
  }
 ],
 "metadata": {
  "kernelspec": {
   "display_name": "Python 3",
   "language": "python",
   "name": "python3"
  },
  "language_info": {
   "codemirror_mode": {
    "name": "ipython",
    "version": 3
   },
   "file_extension": ".py",
   "mimetype": "text/x-python",
   "name": "python",
   "nbconvert_exporter": "python",
   "pygments_lexer": "ipython3",
   "version": "3.6.1"
  }
 },
 "nbformat": 4,
 "nbformat_minor": 2
}
